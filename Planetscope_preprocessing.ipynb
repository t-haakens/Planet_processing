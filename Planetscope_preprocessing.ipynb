{
 "cells": [
  {
   "cell_type": "markdown",
   "id": "52ce4a11",
   "metadata": {},
   "source": [
    "### Planetscope preprocessing\n",
    "\n"
   ]
  },
  {
   "cell_type": "markdown",
   "id": "46a9410c",
   "metadata": {},
   "source": [
    "This script:\n",
    "- Reads multiple Planetscope images/scenes\n",
    "- Convert TOA Radiance to TOA Reflectance\n",
    "- Creates a composite image (or mosaic) that cover a selected area of interest (AOI).\n",
    "\n",
    "Main packages are rasterio and fiona.\n",
    "\n",
    "Code is based on notebooks from Planetlabs, available here: https://github.com/planetlabs/notebooks\n",
    "\n",
    "Data used are from Planetscope 21. June 2019 over a selected study area in the Brazilian Amazon."
   ]
  },
  {
   "cell_type": "code",
   "execution_count": 1,
   "id": "a6407d8f",
   "metadata": {},
   "outputs": [],
   "source": [
    "import numpy as np\n",
    "import matplotlib\n",
    "import rasterio\n",
    "import fiona"
   ]
  },
  {
   "cell_type": "markdown",
   "id": "066a9319",
   "metadata": {},
   "source": [
    "#### Step 1. Aquire Imagery"
   ]
  },
  {
   "cell_type": "markdown",
   "id": "cea858a7",
   "metadata": {},
   "source": [
    "#### Step 2. Read Images and Inspecting Imagery"
   ]
  },
  {
   "cell_type": "code",
   "execution_count": 2,
   "id": "cbe3632c",
   "metadata": {},
   "outputs": [
    {
     "name": "stdout",
     "output_type": "stream",
     "text": [
      "['planet_21/AnalyticMS_files/20190721_133241_1034_3B_AnalyticMS.tif', 'planet_21/AnalyticMS_files/20190721_133242_1034_3B_AnalyticMS.tif', 'planet_21/AnalyticMS_files/20190721_133243_1034_3B_AnalyticMS.tif', 'planet_21/AnalyticMS_files/20190721_133316_1044_3B_AnalyticMS.tif', 'planet_21/AnalyticMS_files/20190721_133317_1044_3B_AnalyticMS.tif', 'planet_21/AnalyticMS_files/20190721_133318_1044_3B_AnalyticMS.tif', 'planet_21/AnalyticMS_files/20190721_133319_1044_3B_AnalyticMS.tif']\n"
     ]
    }
   ],
   "source": [
    "# Will collect 7 scenes from 21. June 2019 to mosaic over AOI\n",
    "# Reading image files(AnalyticMS) and adding the full path\n",
    "n_images = 7\n",
    "from os import walk\n",
    "AnalyticMS_files = []\n",
    "for (dirpath, dirnames, filenames) in walk('planet_21\\AnalyticMS_files'):\n",
    "    AnalyticMS_files.extend(filenames)\n",
    "    break\n",
    "AnalyticMS_path = []\n",
    "for i in AnalyticMS_files:\n",
    "    AnalyticMS_path.append('planet_21/AnalyticMS_files/' + i)\n",
    "print(AnalyticMS_path)"
   ]
  },
  {
   "cell_type": "code",
   "execution_count": 3,
   "id": "505a2e22",
   "metadata": {},
   "outputs": [
    {
     "name": "stdout",
     "output_type": "stream",
     "text": [
      "['planet_21/Metadata_files/20190721_133241_1034_3B_AnalyticMS_metadata.xml', 'planet_21/Metadata_files/20190721_133242_1034_3B_AnalyticMS_metadata.xml', 'planet_21/Metadata_files/20190721_133243_1034_3B_AnalyticMS_metadata.xml', 'planet_21/Metadata_files/20190721_133316_1044_3B_AnalyticMS_metadata.xml', 'planet_21/Metadata_files/20190721_133317_1044_3B_AnalyticMS_metadata.xml', 'planet_21/Metadata_files/20190721_133318_1044_3B_AnalyticMS_metadata.xml', 'planet_21/Metadata_files/20190721_133319_1044_3B_AnalyticMS_metadata.xml']\n"
     ]
    }
   ],
   "source": [
    "# Reading image metadata(AnalyticMS_metadata) and adding the full path\n",
    "Analytic_meta_files = []\n",
    "for (dirpath, dirnames, filenames) in walk('planet_21/Metadata_files'):\n",
    "    Analytic_meta_files.extend(filenames)\n",
    "    break\n",
    "Analytic_meta_path = []\n",
    "for i in Analytic_meta_files:\n",
    "    Analytic_meta_path.append('planet_21/Metadata_files/' + i)\n",
    "print(Analytic_meta_path)"
   ]
  },
  {
   "cell_type": "code",
   "execution_count": 4,
   "id": "61b6cac3",
   "metadata": {},
   "outputs": [
    {
     "name": "stdout",
     "output_type": "stream",
     "text": [
      "<open DatasetReader name='planet_21/AnalyticMS_files/20190721_133241_1034_3B_AnalyticMS.tif' mode='r'>\n",
      "7\n"
     ]
    }
   ],
   "source": [
    "# Loading images into list using rasterio\n",
    "img_list = []\n",
    "for image in AnalyticMS_path:\n",
    "    img_list.append(rasterio.open(image))\n",
    "print(img_list[0])\n",
    "print(len(img_list))\n",
    "\n",
    "# Manual example\n",
    "# img1 = rasterio.open('planet_21/20190721_133318_1044/analytic_udm2/20190721_133318_1044_3B_AnalyticMS.tif')"
   ]
  },
  {
   "cell_type": "markdown",
   "id": "f747cc08",
   "metadata": {},
   "source": [
    "At this point we can use rasterio to inspect the metadata of these three images. Specifically, in order to create a composite from these images, we want to verify that all three images have the same data type, the same coordinate reference systems and the same band count"
   ]
  },
  {
   "cell_type": "code",
   "execution_count": 5,
   "id": "9375c0c4",
   "metadata": {},
   "outputs": [
    {
     "name": "stdout",
     "output_type": "stream",
     "text": [
      "uint16 EPSG:32722 4\n",
      "uint16 EPSG:32722 4\n",
      "uint16 EPSG:32722 4\n",
      "uint16 EPSG:32722 4\n",
      "uint16 EPSG:32722 4\n",
      "uint16 EPSG:32722 4\n",
      "uint16 EPSG:32722 4\n"
     ]
    }
   ],
   "source": [
    "for image in img_list:\n",
    "    print(image.meta['dtype'], image.meta['crs'], image.meta['count'])\n",
    "    \n",
    "# Manual example\n",
    "#print(img2.meta['dtype'], img2.meta['crs'], img2.meta['count'])"
   ]
  },
  {
   "cell_type": "markdown",
   "id": "a7ee7c2d",
   "metadata": {},
   "source": [
    "Let's take a closer look at what these bands contain:"
   ]
  },
  {
   "cell_type": "code",
   "execution_count": 6,
   "id": "68c13e7a",
   "metadata": {},
   "outputs": [
    {
     "name": "stdout",
     "output_type": "stream",
     "text": [
      "blue\n",
      "green\n",
      "red\n",
      "undefined\n"
     ]
    }
   ],
   "source": [
    "# Read in color interpretations of each band in img1 - here we'll assume img2 and img3 have the same values\n",
    "colors = [img_list[0].colorinterp[band] for band in range(img_list[0].count)]\n",
    "\n",
    "# taking a look at img1's band types:\n",
    "for color in colors:\n",
    "    print(color.name)"
   ]
  },
  {
   "cell_type": "markdown",
   "id": "62f9df3e",
   "metadata": {},
   "source": [
    "The fourth channel is a binary alpha mask: this is common in satellite color models, and can be confirmed in Planet's documentation on the PSSCene3Band product.\n",
    "\n",
    "Now that we've verified all three satellite images have the same critical metadata, we can safely use rasterio.merge to stitch them together."
   ]
  },
  {
   "cell_type": "markdown",
   "id": "e19a816d",
   "metadata": {},
   "source": [
    "#### Step 3. Extract the Data from Each Spectral Band\n",
    "In this step, Rasterio (a Python library for reading and writing geospatial raster datasets) will be used to open the raster images (the .tif files). \n",
    "\n",
    "Then data from the bands will be extracted and loaded into arrays for further manioulationwith Python's NumPy libary.\n",
    "\n",
    "Note: in PlanetScope 4-band images, the band order is BGRN: (1) Blue, (2) Green, (3) Red, (4) Near-infrared."
   ]
  },
  {
   "cell_type": "code",
   "execution_count": 7,
   "id": "76e4ace6",
   "metadata": {},
   "outputs": [],
   "source": [
    "# Using rasterio to read radiance values for the 7 images/scenes\n",
    "band_blue_radiance = [0]*n_images\n",
    "band_green_radiance = [0]*n_images\n",
    "band_red_radiance = [0]*n_images\n",
    "band_nir_radiance = [0]*n_images\n",
    "\n",
    "for i in range(n_images):\n",
    "    with rasterio.open(AnalyticMS_path[i]) as src:\n",
    "        band_blue_radiance[i] = src.read(1)\n",
    "    with rasterio.open(AnalyticMS_path[i]) as src:\n",
    "        band_green_radiance[i] = src.read(2)\n",
    "    with rasterio.open(AnalyticMS_path[i]) as src:\n",
    "        band_red_radiance[i] = src.read(3)\n",
    "    with rasterio.open(AnalyticMS_path[i]) as src:\n",
    "        band_nir_radiance[i] = src.read(4)"
   ]
  },
  {
   "cell_type": "markdown",
   "id": "35aac229",
   "metadata": {},
   "source": [
    "#### Step 4. Extract the Coefficients\n",
    "Before converting to reflectance, the conversion coefficients from the metadata file (the .xml file) must be extracted."
   ]
  },
  {
   "cell_type": "code",
   "execution_count": 8,
   "id": "1ec7c24c",
   "metadata": {},
   "outputs": [],
   "source": [
    "from xml.dom import minidom\n",
    "\n",
    "# Gathering the coefficients for the 7 images/scenes\n",
    "coeffs_list = [] \n",
    "for image in Analytic_meta_path:\n",
    "    xmldoc = minidom.parse(image)\n",
    "    nodes = xmldoc.getElementsByTagName(\"ps:bandSpecificMetadata\")\n",
    "    \n",
    "    # XML parser refers to bands by numbers 1-4\n",
    "    coeffs = {} # Coefficients for each image/scene\n",
    "    for node in nodes:\n",
    "        band_nr = node.getElementsByTagName(\"ps:bandNumber\")[0].firstChild.data\n",
    "        if band_nr in ['1', '2', '3', '4']:\n",
    "            i = int(band_nr)\n",
    "            value = node.getElementsByTagName(\"ps:reflectanceCoefficient\")[0].firstChild.data\n",
    "            coeffs[i] = float(value)\n",
    "    coeffs_list.append(coeffs)"
   ]
  },
  {
   "cell_type": "markdown",
   "id": "07604cbe",
   "metadata": {},
   "source": [
    "Note that the coefficients are all of order 1e-5, and that the coefficient for NIR is significantly higher than the coefficient for blue. This is a big deal if your use case involves performing band math because a pixel with a NIR/blue ratio of 1.0 in the radiance image will have a NIR/blue ratio of 3.35/1.929=1.73 in the reflectance image.\n",
    "\n",
    "Most spectral indices are defined in terms of reflectance, not radiance."
   ]
  },
  {
   "cell_type": "markdown",
   "id": "77a9178e",
   "metadata": {},
   "source": [
    "#### Step 5: Convert Radiance to Reflectance\n",
    "Radiance is measured in SI units: $W/m^2$. Reflectance is a ratio from 0 to 1. The conversion is performed as a per-band scalar multiplication:"
   ]
  },
  {
   "cell_type": "code",
   "execution_count": 9,
   "id": "6325f9b0",
   "metadata": {},
   "outputs": [],
   "source": [
    "# Calculating reflectance from radiance and conversion coefficients\n",
    "band_blue_reflectance = []\n",
    "band_green_reflectance = []\n",
    "band_red_reflectance = []\n",
    "band_nir_reflectance = []\n",
    "\n",
    "for i in range(n_images):\n",
    "        band_blue_reflectance.append(band_blue_radiance[i] * coeffs_list[i][1])\n",
    "        band_green_reflectance.append(band_green_radiance[i] * coeffs_list[i][2])\n",
    "        band_red_reflectance.append(band_red_radiance[i] * coeffs_list[i][3])\n",
    "        band_nir_reflectance.append(band_nir_radiance[i] * coeffs_list[i][4])"
   ]
  },
  {
   "cell_type": "code",
   "execution_count": 10,
   "id": "6d648676",
   "metadata": {},
   "outputs": [
    {
     "name": "stdout",
     "output_type": "stream",
     "text": [
      "Red band radiance is from 0 to 10839\n",
      "Red band reflectance is from 0.0 to 0.28485077640094947\n"
     ]
    }
   ],
   "source": [
    "# Checking the results by taking a look at the min-max range of the radiance (before) vs reflectance (after)\n",
    "# for the red band from the first image/scene\n",
    "radiance_min, radiance_max = np.amin(band_red_radiance[0]), np.amax(band_red_radiance[0])\n",
    "reflectance_min, reflectance_max = np.amin(band_red_reflectance[0]), np.amax(band_red_reflectance[0])\n",
    "\n",
    "print(\"Red band radiance is from {} to {}\".format(radiance_min, radiance_max))\n",
    "print(\"Red band reflectance is from {} to {}\".format(reflectance_min, reflectance_max))"
   ]
  },
  {
   "cell_type": "markdown",
   "id": "f1358f3b",
   "metadata": {},
   "source": [
    "#### Step 6. Creating the Mosaic"
   ]
  },
  {
   "cell_type": "code",
   "execution_count": 11,
   "id": "5a43d04c",
   "metadata": {},
   "outputs": [],
   "source": [
    "# Merge returns the mosaic & coordinate transformation information\n",
    "from rasterio.merge import merge\n",
    "(mosaic, transform) = merge(img_list)"
   ]
  },
  {
   "cell_type": "markdown",
   "id": "e310f619",
   "metadata": {},
   "source": [
    "Using rasterio.plot (a matplotlib interface) to preview the results of our mosaic."
   ]
  },
  {
   "cell_type": "code",
   "execution_count": 12,
   "id": "311ed615",
   "metadata": {},
   "outputs": [
    {
     "name": "stderr",
     "output_type": "stream",
     "text": [
      "Clipping input data to the valid range for imshow with RGB data ([0..1] for floats or [0..255] for integers).\n"
     ]
    },
    {
     "data": {
      "image/png": "[encoded data removed]",
      "text/plain": [
       "<Figure size 432x288 with 1 Axes>"
      ]
     },
     "metadata": {
      "needs_background": "light"
     },
     "output_type": "display_data"
    },
    {
     "data": {
      "text/plain": [
       "<AxesSubplot:>"
      ]
     },
     "execution_count": 12,
     "metadata": {},
     "output_type": "execute_result"
    }
   ],
   "source": [
    "from rasterio.plot import show\n",
    "show(mosaic)"
   ]
  },
  {
   "cell_type": "markdown",
   "id": "4688b7a4",
   "metadata": {},
   "source": [
    "Before writing the mosaic out to a new GeoTIFF file, the metadata is taken from the first image/scene to represent the metadata of all input images.\n"
   ]
  },
  {
   "cell_type": "code",
   "execution_count": 13,
   "id": "cd5b95e2",
   "metadata": {},
   "outputs": [],
   "source": [
    "# Copying metadata from image/scene 1\n",
    "meta = img_list[0].meta\n",
    "\n",
    "# Update the original metadata to reflect the specifics of our new mosaic\n",
    "meta.update({\"transform\": transform,\n",
    "    \"height\":mosaic.shape[1],\n",
    "    \"width\":mosaic.shape[2]})\n",
    "\n",
    "with rasterio.open('planet_21/21_mosaic.tif', 'w', **meta) as dst:\n",
    "    dst.write(mosaic)"
   ]
  },
  {
   "cell_type": "markdown",
   "id": "0dfc6500",
   "metadata": {},
   "source": [
    "#### Step 7. Clip the Mosaic to AOI Boundaries\n",
    "A mask is used to clip the mosaic to the extents of our area of interest (AOI).\n",
    "\n",
    "For this operation rasterio's sister-library fiona will read in our AOI (as a GeoJSON file).\n",
    "Just as rasterio is used to manipulate raster data, fiona works similarly on vector data. Where rasterio represents raster imagery as numpy arrays, fiona represents vector data as GeoJSON-like Python dicts.\n",
    "\n",
    "After the GeoJSON is read, the geometry of the AOI is extracted, with the geometry as dict key."
   ]
  },
  {
   "cell_type": "markdown",
   "id": "19836261",
   "metadata": {},
   "source": [
    "##### A note about Coordinate Reference Systems\n",
    "\n",
    "Before the AOI can be applied to the mosaic, the Coordinate Reference System (CRS) need to match.\n",
    "This can be checked by reading the crs attribute of the Collection object generated by fiona.open().\n",
    "\n",
    "The CRS of the AOI is: EPSG:4326.\n",
    "\n",
    "While the CRS for the images/scenes is: EPSG:32722.\n",
    "\n",
    "\n",
    "Before the clip can be applied, the geometry of the AOI needs to be transformed to match the CRS of the imagery.\n",
    "Luckily, fiona is smart enough to apply the necessary mathematical transformation to a set of coordinates in order to convert them to new values: \n",
    "apply fiona.transform.transform_geom to the AOI geometry to do this, specifying the GeoJSON's CRS as the source CRS, and the imagery's CRS as the destination CRS."
   ]
  },
  {
   "cell_type": "code",
   "execution_count": 14,
   "id": "3c3fc3eb",
   "metadata": {},
   "outputs": [
    {
     "name": "stdout",
     "output_type": "stream",
     "text": [
      "uint16 EPSG:32722 4\n",
      "uint16 EPSG:32722 4\n",
      "uint16 EPSG:32722 4\n",
      "uint16 EPSG:32722 4\n",
      "uint16 EPSG:32722 4\n",
      "uint16 EPSG:32722 4\n",
      "uint16 EPSG:32722 4\n"
     ]
    },
    {
     "data": {
      "text/plain": [
       "{'init': 'epsg:4326'}"
      ]
     },
     "execution_count": 14,
     "metadata": {},
     "output_type": "execute_result"
    }
   ],
   "source": [
    "# Checking CRS of image/scenes and the AOI\n",
    "for image in img_list:\n",
    "    print(image.meta['dtype'], image.meta['crs'], image.meta['count'])\n",
    "\n",
    "aoi_info = fiona.open('planet_21/AOI/LCC_AOI.geojson')\n",
    "aoi_info.crs"
   ]
  },
  {
   "cell_type": "code",
   "execution_count": 15,
   "id": "dbf8a57e",
   "metadata": {},
   "outputs": [],
   "source": [
    "# Using fiona on the vector data\n",
    "import fiona\n",
    "\n",
    "# Use fiona to open the original AOI GeoJSON\n",
    "with fiona.open('planet_21/AOI/LCC_AOI.geojson') as mt:\n",
    "    aoi = [feature[\"geometry\"] for feature in mt]\n",
    "    \n",
    "# Transfrom LCC_AOI from CRS: EPSG:4326 to match mosaic CRS: EPSG:32722\n",
    "from fiona.transform import transform_geom\n",
    "transformed_coords = transform_geom('EPSG:4326', 'EPSG:32722', aoi[0])\n",
    "aoi = [transformed_coords]"
   ]
  },
  {
   "cell_type": "markdown",
   "id": "d6924587",
   "metadata": {},
   "source": [
    "At this stage the AOI geometry is read and the coordinates have been transformed to match the mosaic.\n",
    "Next, rasterio.mask.mask will create a mask over our mosaic, using the AOI geometry as the mask line.\n",
    "\n",
    "Passing crop=True to the mask function will automatically crop the bits of our mosaic that fall outside the mask boundary."
   ]
  },
  {
   "cell_type": "code",
   "execution_count": 16,
   "id": "967a128e",
   "metadata": {},
   "outputs": [
    {
     "name": "stderr",
     "output_type": "stream",
     "text": [
      "Clipping input data to the valid range for imshow with RGB data ([0..1] for floats or [0..255] for integers).\n"
     ]
    },
    {
     "data": {
      "image/png": "[encoded data removed]",
      "text/plain": [
       "<Figure size 432x288 with 1 Axes>"
      ]
     },
     "metadata": {
      "needs_background": "light"
     },
     "output_type": "display_data"
    },
    {
     "data": {
      "text/plain": [
       "<AxesSubplot:>"
      ]
     },
     "execution_count": 16,
     "metadata": {},
     "output_type": "execute_result"
    }
   ],
   "source": [
    "# Import rasterio's mask tool\n",
    "from rasterio.mask import mask\n",
    "\n",
    "# Apply mask with crop=True to cut to boundary\n",
    "with rasterio.open('planet_21/21_mosaic.tif') as mosaic:\n",
    "    clipped, transform = mask(mosaic, aoi, crop=True)\n",
    "    \n",
    "# Watch the results\n",
    "show(clipped)"
   ]
  },
  {
   "cell_type": "markdown",
   "id": "62399d18",
   "metadata": {},
   "source": [
    "#### Step 8. Export results\n",
    "Lastly, the result is saved as a final output GeoTIFF."
   ]
  },
  {
   "cell_type": "code",
   "execution_count": 17,
   "id": "7a5df417",
   "metadata": {},
   "outputs": [],
   "source": [
    "# Use metadata from our original mosaic\n",
    "meta = mosaic.meta.copy()\n",
    "\n",
    "# Update metadata with new, clipped mosaic's boundaries\n",
    "meta.update({\"transform\": transform,\n",
    "    \"height\":clipped.shape[1],\n",
    "    \"width\":clipped.shape[2]})\n",
    "\n",
    "# Write the output to a GeoTIFF\n",
    "with rasterio.open('planet_21/21_mosaic_clip.tif', 'w', **meta) as dst:\n",
    "    dst.write(clipped)"
   ]
  },
  {
   "cell_type": "code",
   "execution_count": null,
   "id": "42e79bfe",
   "metadata": {},
   "outputs": [],
   "source": []
  }
 ],
 "metadata": {
  "kernelspec": {
   "display_name": "Python 3",
   "language": "python",
   "name": "python3"
  },
  "language_info": {
   "codemirror_mode": {
    "name": "ipython",
    "version": 3
   },
   "file_extension": ".py",
   "mimetype": "text/x-python",
   "name": "python",
   "nbconvert_exporter": "python",
   "pygments_lexer": "ipython3",
   "version": "3.8.8"
  }
 },
 "nbformat": 4,
 "nbformat_minor": 5
}
